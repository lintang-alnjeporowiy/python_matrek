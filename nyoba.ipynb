{
 "cells": [
  {
   "cell_type": "markdown",
   "metadata": {},
   "source": [
    "## Kalkulator Matematika Rekayasa\n",
    "\n",
    "Semangat Ujiannya"
   ]
  },
  {
   "cell_type": "markdown",
   "metadata": {},
   "source": [
    "### Step 1: Import dkk"
   ]
  },
  {
   "cell_type": "code",
   "execution_count": null,
   "metadata": {},
   "outputs": [],
   "source": [
    "import numpy as np\n",
    "import matplotlib as plt\n",
    "from IPython import display"
   ]
  },
  {
   "cell_type": "markdown",
   "metadata": {},
   "source": [
    "### Step 2: Definisikan semua fungsi yang akan digunakan"
   ]
  },
  {
   "cell_type": "markdown",
   "metadata": {},
   "source": [
    "- Metode Naif"
   ]
  },
  {
   "cell_type": "code",
   "execution_count": null,
   "metadata": {},
   "outputs": [],
   "source": [
    "def metode_naif(x, koefisien):\n",
    "    n = len(x)\n",
    "    y = np.zeros(n)\n",
    "\n",
    "    for i in range(n):\n",
    "        for j in range(len(koefisien)):\n",
    "            y[i] = y[i] + koefisien[j]*(x[i]**j)\n",
    "    return y\n"
   ]
  },
  {
   "cell_type": "markdown",
   "metadata": {},
   "source": [
    "- Metode Horner"
   ]
  },
  {
   "cell_type": "code",
   "execution_count": null,
   "metadata": {},
   "outputs": [],
   "source": [
    "def metode_horner(x, keof):\n",
    "    n = len(x)\n",
    "    y = np.zeros(n)\n",
    "\n",
    "    for i in range(n):\n",
    "        for j in range(len(keof)-1,-1,-1):\n",
    "           y[i] = keof[j] + x[i] * y[i]\n",
    "\n",
    "    return y"
   ]
  },
  {
   "cell_type": "markdown",
   "metadata": {},
   "source": [
    "- Interpolasi Linear"
   ]
  },
  {
   "cell_type": "code",
   "execution_count": null,
   "metadata": {},
   "outputs": [],
   "source": [
    "def linear_inter(x, y):\n",
    "    m = (y[1] - y[0]) / (x[1] - x[0])\n",
    "    b = y[1] - m * x[1]\n",
    "\n",
    "    return m, b\n",
    "\n",
    "\n",
    "def poly_inter(a, b):\n",
    "    if(len(a) != len(b)):\n",
    "        return(\"panjang x dan y harus sama\")\n",
    "    n = len(a)\n",
    "    vandermonde = np.vander(a, n)\n",
    "    beta = np.linalg.solve(vandermonde, b)\n",
    "    #gunakan flip agae firngsi beta terletak di depan\n",
    "    beta = np.flip(beta)\n",
    "\n",
    "    return beta"
   ]
  },
  {
   "cell_type": "markdown",
   "metadata": {},
   "source": [
    "### Step 3: Memasukkan Nilai data yang akan digunakan"
   ]
  }
 ],
 "metadata": {
  "language_info": {
   "name": "python"
  },
  "orig_nbformat": 4
 },
 "nbformat": 4,
 "nbformat_minor": 2
}
